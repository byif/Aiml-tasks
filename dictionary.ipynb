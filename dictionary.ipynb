{
 "cells": [
  {
   "cell_type": "code",
   "execution_count": 9,
   "id": "b353d622-4cef-414a-9171-d66136d8d352",
   "metadata": {},
   "outputs": [
    {
     "name": "stdout",
     "output_type": "stream",
     "text": [
      "{'A': 10, 'B': 20, 'C': 30}\n"
     ]
    }
   ],
   "source": [
    "d2 = dict(A=10, B=20, C=30)\n",
    "print(d2)"
   ]
  },
  {
   "cell_type": "code",
   "execution_count": 37,
   "id": "69357249-df4f-4d3e-b227-dad4e07ab2e1",
   "metadata": {},
   "outputs": [
    {
     "name": "stdout",
     "output_type": "stream",
     "text": [
      "{'x': 1, 'y': 2, 'z': 3}\n"
     ]
    }
   ],
   "source": [
    "d1 ={\"x\":1,\"y\":2,\"z\":3}\n",
    "print(d1)"
   ]
  },
  {
   "cell_type": "code",
   "execution_count": 7,
   "id": "fe0a75af-e607-40a2-a1e7-213189f72e90",
   "metadata": {},
   "outputs": [
    {
     "name": "stdout",
     "output_type": "stream",
     "text": [
      "{'x': 1, 'y': 2, 'z': 3}\n"
     ]
    }
   ],
   "source": [
    "d3 = dict([(\"x\", 1), (\"y\", 2), (\"z\", 3)])\n",
    "print(d3)"
   ]
  },
  {
   "cell_type": "code",
   "execution_count": 17,
   "id": "582cc6c6-3616-4fc3-a3af-cd3e1fead1a5",
   "metadata": {},
   "outputs": [
    {
     "name": "stdout",
     "output_type": "stream",
     "text": [
      "dict_keys(['A', 'B', 'C'])\n",
      "dict_values([10, 20, 30])\n",
      "dict_items([('A', 10), ('B', 20), ('C', 30)])\n"
     ]
    }
   ],
   "source": [
    "print(d2.keys())\n",
    "print(d2.values())\n",
    "print(d2.items())\n"
   ]
  },
  {
   "cell_type": "code",
   "execution_count": 27,
   "id": "927f7f6b-809d-421b-ad0b-4d2f951fce14",
   "metadata": {},
   "outputs": [
    {
     "name": "stdout",
     "output_type": "stream",
     "text": [
      "dict_keys(['x', 'y', 'z'])\n",
      "dict_values([1, 2, 3])\n",
      "dict_items([('x', 1), ('y', 2), ('z', 3)])\n"
     ]
    }
   ],
   "source": [
    "print(d3.keys())\n",
    "print(d3.values())\n",
    "print(d3.items())"
   ]
  },
  {
   "cell_type": "code",
   "execution_count": 31,
   "id": "95054e80-6f49-4934-bcb1-d38a8d6147d0",
   "metadata": {},
   "outputs": [],
   "source": [
    "scores = {'virat':90,'rohit':100,'santhan':99,'navin':51,'hardik':9,'gill':44,'jadeja':30,'siraj':15}"
   ]
  },
  {
   "cell_type": "code",
   "execution_count": 33,
   "id": "11e5bb15-a2c6-4535-a946-e497f190f998",
   "metadata": {},
   "outputs": [
    {
     "data": {
      "text/plain": [
       "{'virat': 90,\n",
       " 'rohit': 100,\n",
       " 'santhan': 99,\n",
       " 'navin': 51,\n",
       " 'hardik': 9,\n",
       " 'gill': 44,\n",
       " 'jadeja': 50,\n",
       " 'siraj': 15}"
      ]
     },
     "execution_count": 33,
     "metadata": {},
     "output_type": "execute_result"
    }
   ],
   "source": [
    "scores.update({\"jadeja\":50})\n",
    "scores"
   ]
  },
  {
   "cell_type": "code",
   "execution_count": 35,
   "id": "feacb0e2-9ec5-47da-9c3b-a78e6939776f",
   "metadata": {},
   "outputs": [
    {
     "data": {
      "text/plain": [
       "{'virat': 90,\n",
       " 'rohit': 100,\n",
       " 'santhan': 100,\n",
       " 'navin': 67,\n",
       " 'hardik': 9,\n",
       " 'gill': 44,\n",
       " 'jadeja': 50,\n",
       " 'siraj': 15}"
      ]
     },
     "execution_count": 35,
     "metadata": {},
     "output_type": "execute_result"
    }
   ],
   "source": [
    "scores.update({\"santhan\":100, \"navin\":67})\n",
    "scores"
   ]
  },
  {
   "cell_type": "code",
   "execution_count": 39,
   "id": "f3ccd993-664f-43b2-a038-4ed72d5dc0be",
   "metadata": {},
   "outputs": [
    {
     "data": {
      "text/plain": [
       "['__class__',\n",
       " '__class_getitem__',\n",
       " '__contains__',\n",
       " '__delattr__',\n",
       " '__delitem__',\n",
       " '__dir__',\n",
       " '__doc__',\n",
       " '__eq__',\n",
       " '__format__',\n",
       " '__ge__',\n",
       " '__getattribute__',\n",
       " '__getitem__',\n",
       " '__getstate__',\n",
       " '__gt__',\n",
       " '__hash__',\n",
       " '__init__',\n",
       " '__init_subclass__',\n",
       " '__ior__',\n",
       " '__iter__',\n",
       " '__le__',\n",
       " '__len__',\n",
       " '__lt__',\n",
       " '__ne__',\n",
       " '__new__',\n",
       " '__or__',\n",
       " '__reduce__',\n",
       " '__reduce_ex__',\n",
       " '__repr__',\n",
       " '__reversed__',\n",
       " '__ror__',\n",
       " '__setattr__',\n",
       " '__setitem__',\n",
       " '__sizeof__',\n",
       " '__str__',\n",
       " '__subclasshook__',\n",
       " 'clear',\n",
       " 'copy',\n",
       " 'fromkeys',\n",
       " 'get',\n",
       " 'items',\n",
       " 'keys',\n",
       " 'pop',\n",
       " 'popitem',\n",
       " 'setdefault',\n",
       " 'update',\n",
       " 'values']"
      ]
     },
     "execution_count": 39,
     "metadata": {},
     "output_type": "execute_result"
    }
   ],
   "source": [
    "dir(dict)"
   ]
  },
  {
   "cell_type": "code",
   "execution_count": 41,
   "id": "4c3d632c-a0dc-4a13-8b83-403d40b22674",
   "metadata": {},
   "outputs": [
    {
     "data": {
      "text/plain": [
       "{'virat': 90,\n",
       " 'rohit': 100,\n",
       " 'santhan': 100,\n",
       " 'navin': 67,\n",
       " 'hardik': 9,\n",
       " 'gill': 44,\n",
       " 'jadeja': 50,\n",
       " 'siraj': 15}"
      ]
     },
     "execution_count": 41,
     "metadata": {},
     "output_type": "execute_result"
    }
   ],
   "source": [
    "scores.setdefault(\"gill\",60)\n",
    "scores"
   ]
  },
  {
   "cell_type": "code",
   "execution_count": 43,
   "id": "d4029720-9668-4f39-bf8a-750121600738",
   "metadata": {},
   "outputs": [
    {
     "data": {
      "text/plain": [
       "{'virat': 90,\n",
       " 'rohit': 100,\n",
       " 'santhan': 100,\n",
       " 'navin': 67,\n",
       " 'hardik': 9,\n",
       " 'gill': 44,\n",
       " 'jadeja': 50,\n",
       " 'siraj': 15,\n",
       " 'allabakask': 60}"
      ]
     },
     "execution_count": 43,
     "metadata": {},
     "output_type": "execute_result"
    }
   ],
   "source": [
    "scores.setdefault(\"allabakask\",60)\n",
    "scores"
   ]
  },
  {
   "cell_type": "code",
   "execution_count": 45,
   "id": "cac73e5c-59ff-49fa-9493-ccf2d2f29b4c",
   "metadata": {},
   "outputs": [
    {
     "data": {
      "text/plain": [
       "{'virat': 90,\n",
       " 'rohit': 100,\n",
       " 'santhan': 100,\n",
       " 'navin': 67,\n",
       " 'hardik': 9,\n",
       " 'gill': 44,\n",
       " 'jadeja': 50,\n",
       " 'siraj': 15}"
      ]
     },
     "execution_count": 45,
     "metadata": {},
     "output_type": "execute_result"
    }
   ],
   "source": [
    "scores.popitem()\n",
    "scores"
   ]
  },
  {
   "cell_type": "code",
   "execution_count": 47,
   "id": "7d1ad8fd-c888-4ab6-8e59-34cc11f0d429",
   "metadata": {},
   "outputs": [
    {
     "data": {
      "text/plain": [
       "{'virat': 90,\n",
       " 'rohit': 100,\n",
       " 'santhan': 100,\n",
       " 'navin': 67,\n",
       " 'hardik': 9,\n",
       " 'jadeja': 50,\n",
       " 'siraj': 15}"
      ]
     },
     "execution_count": 47,
     "metadata": {},
     "output_type": "execute_result"
    }
   ],
   "source": [
    "scores.pop(\"gill\")\n",
    "scores"
   ]
  },
  {
   "cell_type": "code",
   "execution_count": 53,
   "id": "0f77c080-1806-4d8d-858d-4f78c26a1461",
   "metadata": {},
   "outputs": [
    {
     "data": {
      "text/plain": [
       "67"
      ]
     },
     "execution_count": 53,
     "metadata": {},
     "output_type": "execute_result"
    }
   ],
   "source": [
    "scores.get(\"navin\")"
   ]
  },
  {
   "cell_type": "code",
   "execution_count": 55,
   "id": "8e0a6903-f8e7-4525-8b76-23bfce3c22d3",
   "metadata": {},
   "outputs": [
    {
     "data": {
      "text/plain": [
       "{'A': 20, 'B': 20, 'C': 20, 'D': 20}"
      ]
     },
     "execution_count": 55,
     "metadata": {},
     "output_type": "execute_result"
    }
   ],
   "source": [
    "l1 =[\"A\",\"B\",\"C\",\"D\"]\n",
    "mydict = dict.fromkeys(l1,20)\n",
    "mydict"
   ]
  },
  {
   "cell_type": "code",
   "execution_count": 57,
   "id": "2bfd7db5-d75e-4fa1-a718-da37aaba835c",
   "metadata": {},
   "outputs": [
    {
     "data": {
      "text/plain": [
       "{'A': 10, 'B': 20, 'C': 20, 'D': 20}"
      ]
     },
     "execution_count": 57,
     "metadata": {},
     "output_type": "execute_result"
    }
   ],
   "source": [
    "mydict.update({\"A\":10,\"B\":20})\n",
    "mydict"
   ]
  },
  {
   "cell_type": "code",
   "execution_count": null,
   "id": "1174855d-2e7b-422b-8624-9163ea36a189",
   "metadata": {},
   "outputs": [],
   "source": []
  }
 ],
 "metadata": {
  "kernelspec": {
   "display_name": "Python 3 (ipykernel)",
   "language": "python",
   "name": "python3"
  },
  "language_info": {
   "codemirror_mode": {
    "name": "ipython",
    "version": 3
   },
   "file_extension": ".py",
   "mimetype": "text/x-python",
   "name": "python",
   "nbconvert_exporter": "python",
   "pygments_lexer": "ipython3",
   "version": "3.12.4"
  }
 },
 "nbformat": 4,
 "nbformat_minor": 5
}
