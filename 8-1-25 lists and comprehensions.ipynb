{
 "cells": [
  {
   "cell_type": "code",
   "execution_count": 1,
   "id": "49f33eef-eb54-437e-aafe-f91fb10c43de",
   "metadata": {},
   "outputs": [],
   "source": [
    "#conventional if-else"
   ]
  },
  {
   "cell_type": "code",
   "execution_count": 3,
   "id": "0ddd9da6-770f-4463-a08d-7fef4db6f560",
   "metadata": {},
   "outputs": [
    {
     "name": "stdout",
     "output_type": "stream",
     "text": [
      "even\n"
     ]
    }
   ],
   "source": [
    "n = 6\n",
    "if n%2 == 0:\n",
    "    print(\"even\")\n",
    "else:\n",
    "    print(\"odd\")"
   ]
  },
  {
   "cell_type": "code",
   "execution_count": 11,
   "id": "9935b4b6-6424-440c-a57c-40a9e1647776",
   "metadata": {},
   "outputs": [
    {
     "name": "stdout",
     "output_type": "stream",
     "text": [
      "even\n"
     ]
    }
   ],
   "source": [
    "n = 6\n",
    "print(\"even\")if n%2 == 0 else print(\"odd\")"
   ]
  },
  {
   "cell_type": "code",
   "execution_count": 9,
   "id": "b73ec726-39d8-4dc1-aefa-3f476b7015f6",
   "metadata": {},
   "outputs": [
    {
     "name": "stdout",
     "output_type": "stream",
     "text": [
      "positive\n"
     ]
    }
   ],
   "source": [
    "x = 10\n",
    "r = \"positive\" if x > 0 else \"negative\"\n",
    "print(r)"
   ]
  },
  {
   "cell_type": "code",
   "execution_count": 25,
   "id": "a820d4c0-69cc-4d3a-9593-cf862286dc00",
   "metadata": {},
   "outputs": [
    {
     "name": "stdout",
     "output_type": "stream",
     "text": [
      "Adult\n"
     ]
    }
   ],
   "source": [
    "age = 18\n",
    "cat = \"Adult\" if age>=18 else \"Minor\"\n",
    "print(cat)"
   ]
  },
  {
   "cell_type": "code",
   "execution_count": 27,
   "id": "2dfb3785-bb99-47a7-8973-1ef337d69dae",
   "metadata": {},
   "outputs": [],
   "source": [
    "#nested if else in one line"
   ]
  },
  {
   "cell_type": "code",
   "execution_count": 31,
   "id": "53e00a4e-6715-4f8e-a7d5-fcae246d4cb0",
   "metadata": {},
   "outputs": [
    {
     "name": "stdout",
     "output_type": "stream",
     "text": [
      "zero\n"
     ]
    }
   ],
   "source": [
    "num = 0\n",
    "result = \"positive\"if num > 0 else \"Negative\" if num< 0 else \"zero\"\n",
    "print(result)"
   ]
  },
  {
   "cell_type": "code",
   "execution_count": 39,
   "id": "bafd0fec-10b1-41fe-ab54-8db2a97387cd",
   "metadata": {},
   "outputs": [
    {
     "data": {
      "text/plain": [
       "[2, 18, 4, 20, 112, 178]"
      ]
     },
     "execution_count": 39,
     "metadata": {},
     "output_type": "execute_result"
    }
   ],
   "source": [
    " L = [1,9,2,10,56,89]\n",
    "[2*x for x in L]"
   ]
  },
  {
   "cell_type": "code",
   "execution_count": 43,
   "id": "0bc14c30-b8d6-4ad6-9f86-7db4bdaaa008",
   "metadata": {},
   "outputs": [
    {
     "data": {
      "text/plain": [
       "[2, 10, 56]"
      ]
     },
     "execution_count": 43,
     "metadata": {},
     "output_type": "execute_result"
    }
   ],
   "source": [
    " L = [1,9,2,10,56,89]\n",
    "[x for x in L if x%2 == 0]"
   ]
  },
  {
   "cell_type": "code",
   "execution_count": 53,
   "id": "fce446dc-1898-4712-83a5-9502d14b4741",
   "metadata": {},
   "outputs": [
    {
     "data": {
      "text/plain": [
       "{'ram': [70, 71, 90, 100], 'john': [56, 98, 67, 65], 'prem': [76, 78, 90, 98]}"
      ]
     },
     "execution_count": 53,
     "metadata": {},
     "output_type": "execute_result"
    }
   ],
   "source": [
    "d1 = {\"ram\":[70,71,90,100], \"john\":[56,98,67,65],\"prem\":[76,78,90,98]}\n",
    "d1"
   ]
  },
  {
   "cell_type": "code",
   "execution_count": 55,
   "id": "ff2757fe-eb68-48f3-ab61-5f809ce08adc",
   "metadata": {},
   "outputs": [
    {
     "data": {
      "text/plain": [
       "{'ram': 82.75, 'john': 71.5, 'prem': 85.5}"
      ]
     },
     "execution_count": 55,
     "metadata": {},
     "output_type": "execute_result"
    }
   ],
   "source": [
    "{k:sum(v)/len(v) for k,v in d1.items()}"
   ]
  },
  {
   "cell_type": "code",
   "execution_count": 57,
   "id": "043675cd-2598-4e05-ac22-8be6ba7e06b7",
   "metadata": {},
   "outputs": [],
   "source": [
    "### write a user defined function to comput average"
   ]
  },
  {
   "cell_type": "code",
   "execution_count": 59,
   "id": "ae2e2dbc-e53f-48e1-9aa2-c44740b3f1dc",
   "metadata": {},
   "outputs": [],
   "source": [
    "def mean_value(given_list):\n",
    "    total = sum(given_list)\n",
    "    average_value = total/len(given_list)\n",
    "    return average_value"
   ]
  },
  {
   "cell_type": "code",
   "execution_count": 61,
   "id": "acf73c9a-433b-4c57-a08b-b530b9f04267",
   "metadata": {},
   "outputs": [
    {
     "data": {
      "text/plain": [
       "5.5"
      ]
     },
     "execution_count": 61,
     "metadata": {},
     "output_type": "execute_result"
    }
   ],
   "source": [
    " l =[1,2,3,4,5,6,7,8,9,10]\n",
    "mean_value(l)"
   ]
  },
  {
   "cell_type": "code",
   "execution_count": null,
   "id": "58d03331-6864-4597-9070-0ff9a464ddd2",
   "metadata": {},
   "outputs": [],
   "source": []
  }
 ],
 "metadata": {
  "kernelspec": {
   "display_name": "Python 3 (ipykernel)",
   "language": "python",
   "name": "python3"
  },
  "language_info": {
   "codemirror_mode": {
    "name": "ipython",
    "version": 3
   },
   "file_extension": ".py",
   "mimetype": "text/x-python",
   "name": "python",
   "nbconvert_exporter": "python",
   "pygments_lexer": "ipython3",
   "version": "3.12.4"
  }
 },
 "nbformat": 4,
 "nbformat_minor": 5
}
